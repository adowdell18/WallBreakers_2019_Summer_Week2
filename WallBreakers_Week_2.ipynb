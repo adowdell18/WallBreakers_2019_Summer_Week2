{
  "nbformat": 4,
  "nbformat_minor": 0,
  "metadata": {
    "colab": {
      "name": "WallBreakers Week 2",
      "version": "0.3.2",
      "provenance": [],
      "collapsed_sections": []
    },
    "kernelspec": {
      "name": "python3",
      "display_name": "Python 3"
    }
  },
  "cells": [
    {
      "cell_type": "markdown",
      "metadata": {
        "id": "BKjfNx6lNrUH",
        "colab_type": "text"
      },
      "source": [
        "# Jewels & Stones (Brute Force)\n",
        "\n"
      ]
    },
    {
      "cell_type": "code",
      "metadata": {
        "id": "Qwa4gc-TNT6q",
        "colab_type": "code",
        "colab": {}
      },
      "source": [
        "class Solution(object):\n",
        "    def numJewelsInStones(self, J, S):\n",
        "        \"\"\"\n",
        "        :type J: str\n",
        "        :type S: str\n",
        "        :rtype: int\n",
        "        \"\"\"\n",
        "        \n",
        "        count = 0\n",
        "        jewels  = list(J)\n",
        "        for stone in S:\n",
        "            if (stone in jewels): \n",
        "                count+=1\n",
        "                \n",
        "        return count"
      ],
      "execution_count": 0,
      "outputs": []
    },
    {
      "cell_type": "markdown",
      "metadata": {
        "id": "5-qMSpMOa1jM",
        "colab_type": "text"
      },
      "source": [
        "# Morse Code (Morse Code)"
      ]
    },
    {
      "cell_type": "code",
      "metadata": {
        "id": "O35s57U_a5X1",
        "colab_type": "code",
        "colab": {}
      },
      "source": [
        "class Solution(object):\n",
        "    def uniqueMorseRepresentations(self, words):\n",
        "        \"\"\"\n",
        "        :type words: List[str]\n",
        "        :rtype: int\n",
        "        \"\"\"\n",
        "        values = [\".-\",\"-...\",\"-.-.\",\"-..\",\".\",\"..-.\",\"--.\",\"....\",\"..\",\".---\",\"-.-\",\".-..\",\"--\",\"-.\",\"---\",\".--.\",\"--.-\",\".-.\",\"...\",\"-\",\"..-\",\"...-\",\".--\",\"-..-\",\"-.--\",\"--..\"]\n",
        "        keys = list('abcdefghijklmnopqrstuvwxyz')\n",
        "        #print(values)\n",
        "        dictionary = dict(zip(keys, values))\n",
        "\n",
        "        conversions = []\n",
        "        conversion = \"\"\n",
        "        for word in words:\n",
        "            for char in word:\n",
        "                conversion += dictionary.get(char)\n",
        "            conversions.append(conversion)\n",
        "            conversion = \"\"\n",
        "        return len(set(conversions))\n",
        "    \n",
        "    "
      ],
      "execution_count": 0,
      "outputs": []
    },
    {
      "cell_type": "markdown",
      "metadata": {
        "id": "QvZZ7Xy8WtKY",
        "colab_type": "text"
      },
      "source": [
        "# Find Anagrams \n",
        "https://leetcode.com/problems/find-all-anagrams-in-a-string/submissions/"
      ]
    },
    {
      "cell_type": "code",
      "metadata": {
        "id": "fnnkTTMIWqkr",
        "colab_type": "code",
        "colab": {}
      },
      "source": [
        "class Solution(object):\n",
        "    def __init__(self, anagram_indices = []):\n",
        "        self.anagram_indices = anagram_indices\n",
        "    def isAna(self, s, p, start, end):\n",
        "        #print(start)\n",
        "        #print(end)\n",
        "        c_substring = s[start:end]\n",
        "\n",
        "        if end > len(s):\n",
        "            return self.anagram_indices\n",
        "        elif (set(c_substring) == set(p)):\n",
        "            self.anagram_indices.append(start)\n",
        "            #print(self.anagram_indices)\n",
        "        return self.isAna(s, p, start+1, ((start+1) + len(p)) )\n",
        "         \n",
        "    def findAnagrams(self, s, p):\n",
        "        \"\"\"\n",
        "        :type s: str\n",
        "        :type p: str\n",
        "        :rtype: List[int]\n",
        "        \"\"\"\n",
        "        start = 0\n",
        "        end = len(p)\n",
        "\n",
        "        return self.isAna(s, p, start, end)\n",
        "        \n",
        "        "
      ],
      "execution_count": 0,
      "outputs": []
    },
    {
      "cell_type": "markdown",
      "metadata": {
        "id": "WQWNwhOG0KMm",
        "colab_type": "text"
      },
      "source": [
        "#Uncommon Words from Two Sentences\n",
        "https://leetcode.com/problems/uncommon-words-from-two-sentences/"
      ]
    },
    {
      "cell_type": "markdown",
      "metadata": {
        "id": "TVfvwZQN4fDo",
        "colab_type": "text"
      },
      "source": [
        "### Brute Force"
      ]
    },
    {
      "cell_type": "code",
      "metadata": {
        "id": "-zFCuNOf0U5O",
        "colab_type": "code",
        "colab": {}
      },
      "source": [
        "class Solution(object):\n",
        "    def uncommonFromSentences(self, A, B):\n",
        "        \"\"\"\n",
        "        :type A: str\n",
        "        :type B: str\n",
        "        :rtype: List[str]\n",
        "        \"\"\"\n",
        "        \n",
        "        a = A.split(\" \")\n",
        "        b = B.split(\" \")\n",
        "        \n",
        "        return [i for i in a + b if ((a + b).count(i) == 1)]"
      ],
      "execution_count": 0,
      "outputs": []
    },
    {
      "cell_type": "markdown",
      "metadata": {
        "id": "BcrvAa5c4lj9",
        "colab_type": "text"
      },
      "source": [
        "### Dictionary Solution"
      ]
    },
    {
      "cell_type": "code",
      "metadata": {
        "id": "ez-EAKQV4bGZ",
        "colab_type": "code",
        "colab": {}
      },
      "source": [
        "class Solution(object):\n",
        "    def uncommonFromSentences(self, A, B):\n",
        "        \"\"\"\n",
        "        :type A: str\n",
        "        :type B: str\n",
        "        :rtype: List[str]\n",
        "        \"\"\"\n",
        "        c_count = collections.Counter(A.split(\" \") + B.split(\" \"))\n",
        "        return [word for word in c_count if c_count[word] == 1]"
      ],
      "execution_count": 0,
      "outputs": []
    },
    {
      "cell_type": "markdown",
      "metadata": {
        "id": "2x-F-N5t0Wn4",
        "colab_type": "text"
      },
      "source": [
        "## First Unique Character in a String"
      ]
    },
    {
      "cell_type": "code",
      "metadata": {
        "id": "PItAOM-s0Un_",
        "colab_type": "code",
        "colab": {}
      },
      "source": [
        "class Solution(object):\n",
        "    def firstUniqChar(self, s):\n",
        "        \"\"\"\n",
        "        :type s: str\n",
        "        :rtype: int\n",
        "        \"\"\"\n",
        "        \n",
        "        return min( [s.find(char) for char in 'abcdefghijklmnopqrstuvwxyz' if s.count(char) == 1] or [-1])\n",
        " "
      ],
      "execution_count": 0,
      "outputs": []
    },
    {
      "cell_type": "markdown",
      "metadata": {
        "id": "1OtLZWzeoZTV",
        "colab_type": "text"
      },
      "source": [
        "# Happy Number"
      ]
    },
    {
      "cell_type": "code",
      "metadata": {
        "id": "2VEIx9rDoXiA",
        "colab_type": "code",
        "colab": {}
      },
      "source": [
        "class Solution(object):\n",
        "    def happy_square_finder(self, digits, ssum):\n",
        "        if (ssum == 1):\n",
        "            return True\n",
        "        else:\n",
        "            if (ssum == 4) or (ssum > 1000):\n",
        "                return False\n",
        "            else: \n",
        "                ssum = 0\n",
        "                for digit in digits:\n",
        "                    print(digit)\n",
        "                    ssum += int(digit)**2\n",
        "                digits = list(str(ssum))\n",
        "                return self.happy_square_finder(digits,ssum)\n",
        "        \n",
        "    def isHappy(self, n):\n",
        "        \"\"\"\n",
        "        :type n: int\n",
        "        :rtype: bool\n",
        "        \"\"\"\n",
        "        digits = list(str(n))\n",
        "        ssum = 0\n",
        "        \n",
        "        return (self.happy_square_finder(digits, ssum))\n",
        "        \n",
        "        \n",
        "        "
      ],
      "execution_count": 0,
      "outputs": []
    },
    {
      "cell_type": "markdown",
      "metadata": {
        "id": "5xy5-MFf4WOy",
        "colab_type": "text"
      },
      "source": [
        "## ** ***Subdomain Visit Count**\n",
        "\n"
      ]
    },
    {
      "cell_type": "code",
      "metadata": {
        "id": "uZJpwEJQ4VJV",
        "colab_type": "code",
        "colab": {}
      },
      "source": [
        "class Solution(object):\n",
        "    def subdomainVisits(self, cpdomains):\n",
        "        \"\"\"\n",
        "        :type cpdomains: List[str]\n",
        "        :rtype: List[str]\n",
        "        \"\"\"\n",
        "        # initialize dictionary of integers\n",
        "        result = collections.defaultdict(int)\n",
        "        for cpdomain in cpdomains:\n",
        "            freq, domain = cpdomain.split()\n",
        "            \n",
        "            domain_segments = domain.split('.')[::-1]\n",
        "            #parts = parts[:: -1]\n",
        "            #print(parts)\n",
        "            \n",
        "            for j in range(1, len(domain_segments) + 1):\n",
        "                result['.'.join(domain_segments[:j][::-1])] += int(freq)\n",
        "               \n",
        "        return ['{} {}'.format(values, keys) for keys, values in result.items()]"
      ],
      "execution_count": 0,
      "outputs": []
    },
    {
      "cell_type": "markdown",
      "metadata": {
        "id": "aP7etHp4DcyL",
        "colab_type": "text"
      },
      "source": [
        "Find the Difference\n"
      ]
    },
    {
      "cell_type": "code",
      "metadata": {
        "id": "VkRV_OfLDbUc",
        "colab_type": "code",
        "colab": {}
      },
      "source": [
        "class Solution(object):\n",
        "    def findTheDifference(self, s, t):\n",
        "        \"\"\"\n",
        "        :type s: str\n",
        "        :type t: str\n",
        "        :rtype: str\n",
        "        \n",
        "        \n",
        "        \"\"\"\n",
        "        return \"\".join([char for char in set(t) if s.count(char) != t.count(char)])"
      ],
      "execution_count": 0,
      "outputs": []
    },
    {
      "cell_type": "markdown",
      "metadata": {
        "id": "3wVVTpum0lua",
        "colab_type": "text"
      },
      "source": [
        "## Distribute Candies"
      ]
    },
    {
      "cell_type": "code",
      "metadata": {
        "id": "F7efAjWJmJXY",
        "colab_type": "code",
        "colab": {}
      },
      "source": [
        "class Solution(object):\n",
        "    def distributeCandies(self, candies):\n",
        "        \"\"\"\n",
        "        :type candies: List[int]\n",
        "        :rtype: int\n",
        "        \"\"\"\n",
        "        \n",
        "        return min(len(candies) // 2 , (len(set(candies))))"
      ],
      "execution_count": 0,
      "outputs": []
    },
    {
      "cell_type": "markdown",
      "metadata": {
        "id": "oQu-JIe8bBK4",
        "colab_type": "text"
      },
      "source": [
        "## ***Groups of Special Equivalent Strings"
      ]
    },
    {
      "cell_type": "code",
      "metadata": {
        "id": "gvIyo1YIHc3w",
        "colab_type": "code",
        "colab": {}
      },
      "source": [
        "class Solution:\n",
        "    def numSpecialEquivGroups(self, A):\n",
        "        \"\"\"\n",
        "        :type A: List[str]\n",
        "        :rtype: int\n",
        "        \"\"\"\n",
        "        return len(set([''.join(sorted(char[0::2]) + sorted(char[1::2])) for char in A]))"
      ],
      "execution_count": 0,
      "outputs": []
    },
    {
      "cell_type": "markdown",
      "metadata": {
        "id": "gMolxgYyzsF2",
        "colab_type": "text"
      },
      "source": [
        "## Intersection of Two Arrays"
      ]
    },
    {
      "cell_type": "code",
      "metadata": {
        "id": "MFkODVfSzrF_",
        "colab_type": "code",
        "colab": {}
      },
      "source": [
        "class Solution(object):\n",
        "    def intersection(self, nums1, nums2):\n",
        "        \"\"\"\n",
        "        :type nums1: List[int]\n",
        "        :type nums2: List[int]\n",
        "        :rtype: List[int]\n",
        "        \"\"\"\n",
        "        \n",
        "        \n",
        "        return list(set([ele for ele in nums1 + nums2 if ele in nums1 and ele in nums2]))"
      ],
      "execution_count": 0,
      "outputs": []
    }
  ]
}